{
 "cells": [
  {
   "cell_type": "code",
   "execution_count": 2,
   "metadata": {
    "collapsed": true
   },
   "outputs": [],
   "source": [
    "import json\n",
    "import os"
   ]
  },
  {
   "cell_type": "code",
   "execution_count": 3,
   "metadata": {},
   "outputs": [
    {
     "data": {
      "text/plain": [
       "'/Users/syushengwei/Desktop'"
      ]
     },
     "execution_count": 3,
     "metadata": {},
     "output_type": "execute_result"
    }
   ],
   "source": [
    "os.getcwd()"
   ]
  },
  {
   "cell_type": "code",
   "execution_count": 4,
   "metadata": {
    "collapsed": true
   },
   "outputs": [],
   "source": [
    "class Song_Tag() :\n",
    "    def __init__(self,title,tags):\n",
    "        self.title = title\n",
    "        self.tags = tags\n",
    "    def countTotalTags (self):\n",
    "        total = 0\n",
    "        for tag in self.tags:\n",
    "            total += int(tag[1])\n",
    "        return total\n",
    "    def getUniTag(self):\n",
    "        tag_list = []\n",
    "        for tag in self.tags:\n",
    "            tag_list.append(tag[0])\n",
    "        return tag_list"
   ]
  },
  {
   "cell_type": "code",
   "execution_count": 5,
   "metadata": {
    "collapsed": true
   },
   "outputs": [],
   "source": [
    "rootdir = \"/Users/syushengwei/Desktop/LastFmDateSet\""
   ]
  },
  {
   "cell_type": "code",
   "execution_count": 6,
   "metadata": {
    "collapsed": true
   },
   "outputs": [],
   "source": [
    "All_Song_List = []\n",
    "for parent,dirnames,filenames in os.walk(rootdir):\n",
    "    for filename in filenames:\n",
    "        if filename == '.DS_Store' : continue\n",
    "        #print(\"parent folder is:\" + parent)\n",
    "        #print(\"filename with full path:\"+ os.path.join(parent,filename))\n",
    "        path = os.path.join(parent,filename)\n",
    "        with open(path,'r') as infile:\n",
    "            song_json = json.load(infile)\n",
    "            #print(filename,song_json['tags'],song_json['title'])\n",
    "            the_song =  Song_Tag(song_json['title'],song_json['tags'])\n",
    "            All_Song_List.append(the_song)"
   ]
  },
  {
   "cell_type": "code",
   "execution_count": 22,
   "metadata": {},
   "outputs": [],
   "source": [
    "Ctr_tagsInData = 0\n",
    "Ctr_tag_with0 = 0\n",
    "Ctr_tag_within10 = 0\n",
    "Ctr_tag_within20 = 0\n",
    "Ctr_tag_within30 = 0\n",
    "Ctr_tag_within40 = 0\n",
    "Ctr_tag_within50 = 0\n",
    "Ctr_tag_within60 = 0\n",
    "Ctr_tag_within70 = 0\n",
    "Ctr_tag_within80 = 0\n",
    "Ctr_tag_within90 = 0\n",
    "Ctr_tag_within100 = 0\n",
    "Ctr_tag_more100 =0\n",
    "Ctr_List = [ 0 for i in range(0,1000)]\n",
    "for song in All_Song_List:\n",
    "    #ctr_this_song = song.countTotalTags()\n",
    "    ctr_this_song=len(song.getUniTag())\n",
    "    Ctr_tagsInData += ctr_this_song\n",
    "    Ctr_List[ctr_this_song] +=1\n",
    "    if ctr_this_song == 0 : Ctr_tag_with0 += 1\n",
    "    if ctr_this_song >0 and ctr_this_song <10 : Ctr_tag_within10 +=1\n",
    "    if ctr_this_song >=10 and ctr_this_song <20 : Ctr_tag_within20 +=1\n",
    "    if ctr_this_song >=20 and ctr_this_song <30 : Ctr_tag_within30 +=1\n",
    "    if ctr_this_song >=30 and ctr_this_song <40 : Ctr_tag_within40 +=1\n",
    "    if ctr_this_song >=40 and ctr_this_song <50 : Ctr_tag_within50 +=1\n",
    "    if ctr_this_song >=50 and ctr_this_song <60 : Ctr_tag_within60 +=1\n",
    "    if ctr_this_song >=60 and ctr_this_song <70 : Ctr_tag_within70 +=1\n",
    "    if ctr_this_song >=70 and ctr_this_song <80 : Ctr_tag_within80 +=1\n",
    "    if ctr_this_song >=80 and ctr_this_song <90 : Ctr_tag_within90 +=1\n",
    "    if ctr_this_song >=90 and ctr_this_song <100 : Ctr_tag_within100 +=1\n",
    "    if ctr_this_song == 100 : Ctr_tag_more100 +=1\n",
    "        \n",
    "        "
   ]
  },
  {
   "cell_type": "code",
   "execution_count": 21,
   "metadata": {},
   "outputs": [
    {
     "name": "stdout",
     "output_type": "stream",
     "text": [
      "Total tags in The LastFM Dataset: 8598630\n",
      "Count of song with 0 tag: 438118\n",
      "Count of song with 1 tag: 88821\n",
      "Count of song with 2 tag: 52891\n",
      "Count of song with 3 tag: 39446\n",
      "Count of song with 4 tag: 31569\n",
      "Count of song with 5 tag: 25745\n",
      "Count of song with 6 tag: 21622\n",
      "Count of song with 7 tag: 18300\n",
      "Count of song with 8 tag: 15698\n",
      "Count of song with 9 tag: 13728\n",
      "Count of song with 10 tag: 11982\n",
      "Count of song with 11 tag: 10668\n",
      "Count of song with 12 tag: 9666\n",
      "Count of song with 13 tag: 8588\n",
      "Count of song with 14 tag: 7911\n",
      "Count of song with 15 tag: 7009\n",
      "Count of song with 16 tag: 6463\n",
      "Count of song with 17 tag: 5793\n",
      "Count of song with 18 tag: 5337\n",
      "Count of song with 19 tag: 5007\n",
      "Count of song with 20 tag: 4648\n",
      "Count of song with 21 tag: 4169\n",
      "Count of song with 22 tag: 3857\n",
      "Count of song with 23 tag: 3613\n",
      "Count of song with 24 tag: 3560\n",
      "Count of song with 25 tag: 3309\n",
      "Count of song with 26 tag: 2983\n",
      "Count of song with 27 tag: 2862\n",
      "Count of song with 28 tag: 2705\n",
      "Count of song with 29 tag: 2630\n",
      "Count of song with 30 tag: 2485\n",
      "Count of song with 31 tag: 2293\n",
      "Count of song with 32 tag: 2266\n",
      "Count of song with 33 tag: 2149\n",
      "Count of song with 34 tag: 1967\n",
      "Count of song with 35 tag: 1857\n",
      "Count of song with 36 tag: 1812\n",
      "Count of song with 37 tag: 1674\n",
      "Count of song with 38 tag: 1673\n",
      "Count of song with 39 tag: 1640\n",
      "Count of song with 40 tag: 1468\n",
      "Count of song with 41 tag: 1412\n",
      "Count of song with 42 tag: 1499\n",
      "Count of song with 43 tag: 1280\n",
      "Count of song with 44 tag: 1197\n",
      "Count of song with 45 tag: 1238\n",
      "Count of song with 46 tag: 1236\n",
      "Count of song with 47 tag: 1097\n",
      "Count of song with 48 tag: 1080\n",
      "Count of song with 49 tag: 1015\n",
      "Count of song with 50 tag: 1055\n",
      "Count of song with 51 tag: 953\n",
      "Count of song with 52 tag: 866\n",
      "Count of song with 53 tag: 937\n",
      "Count of song with 54 tag: 828\n",
      "Count of song with 55 tag: 847\n",
      "Count of song with 56 tag: 922\n",
      "Count of song with 57 tag: 727\n",
      "Count of song with 58 tag: 717\n",
      "Count of song with 59 tag: 692\n",
      "Count of song with 60 tag: 756\n",
      "Count of song with 61 tag: 742\n",
      "Count of song with 62 tag: 661\n",
      "Count of song with 63 tag: 740\n",
      "Count of song with 64 tag: 626\n",
      "Count of song with 65 tag: 663\n",
      "Count of song with 66 tag: 618\n",
      "Count of song with 67 tag: 578\n",
      "Count of song with 68 tag: 505\n",
      "Count of song with 69 tag: 565\n",
      "Count of song with 70 tag: 597\n",
      "Count of song with 71 tag: 554\n",
      "Count of song with 72 tag: 585\n",
      "Count of song with 73 tag: 513\n",
      "Count of song with 74 tag: 511\n",
      "Count of song with 75 tag: 539\n",
      "Count of song with 76 tag: 451\n",
      "Count of song with 77 tag: 444\n",
      "Count of song with 78 tag: 424\n",
      "Count of song with 79 tag: 422\n",
      "Count of song with 80 tag: 431\n",
      "Count of song with 81 tag: 382\n",
      "Count of song with 82 tag: 426\n",
      "Count of song with 83 tag: 430\n",
      "Count of song with 84 tag: 414\n",
      "Count of song with 85 tag: 366\n",
      "Count of song with 86 tag: 377\n",
      "Count of song with 87 tag: 334\n",
      "Count of song with 88 tag: 379\n",
      "Count of song with 89 tag: 376\n",
      "Count of song with 90 tag: 379\n",
      "Count of song with 91 tag: 325\n",
      "Count of song with 92 tag: 355\n",
      "Count of song with 93 tag: 297\n",
      "Count of song with 94 tag: 318\n",
      "Count of song with 95 tag: 282\n",
      "Count of song with 96 tag: 290\n",
      "Count of song with 97 tag: 273\n",
      "Count of song with 98 tag: 251\n",
      "Count of song with 99 tag: 296\n",
      "Count of song with 100 tag: 25279\n"
     ]
    }
   ],
   "source": [
    "print('Total tags in The LastFM Dataset:',Ctr_tagsInData)\n",
    "for i in range(0,1000):\n",
    "    if Ctr_List[i] != 0:\n",
    "        print('Count of song with '+str(i)+' tag:',Ctr_List[i] )\n",
    "\n"
   ]
  },
  {
   "cell_type": "code",
   "execution_count": 25,
   "metadata": {},
   "outputs": [
    {
     "name": "stdout",
     "output_type": "stream",
     "text": [
      "Total tags in The LastFM Dataset: 8598630\n",
      "Count of song with 0   tag   : 438118\n",
      "Count of song with 1~9 tag   : 307820\n",
      "Count of song with 10~19 tag   : 78424\n",
      "Count of song with 20~29 tag   : 34336\n",
      "Count of song with 30~39 tag   : 19816\n",
      "Count of song with 40~49 tag   : 12522\n",
      "Count of song with 50~59 tag   : 8544\n",
      "Count of song with 60~69 tag   : 6454\n",
      "Count of song with 70~79 tag   : 5040\n",
      "Count of song with 80~89 tag   : 3915\n",
      "Count of song with 90~99 tag   : 3066\n",
      "Count of song more than 100 tag   : 25279\n",
      "505216\n"
     ]
    }
   ],
   "source": [
    "print('Total tags in The LastFM Dataset:',Ctr_tagsInData)\n",
    "print('Count of song with 0   tag   :',Ctr_tag_with0)\n",
    "print('Count of song with 1~9 tag   :',Ctr_tag_within10)\n",
    "print('Count of song with 10~19 tag   :',Ctr_tag_within20)\n",
    "print('Count of song with 20~29 tag   :',Ctr_tag_within30)\n",
    "print('Count of song with 30~39 tag   :',Ctr_tag_within40)\n",
    "print('Count of song with 40~49 tag   :',Ctr_tag_within50)\n",
    "print('Count of song with 50~59 tag   :',Ctr_tag_within60)\n",
    "print('Count of song with 60~69 tag   :',Ctr_tag_within70)\n",
    "print('Count of song with 70~79 tag   :',Ctr_tag_within80)\n",
    "print('Count of song with 80~89 tag   :',Ctr_tag_within90)\n",
    "print('Count of song with 90~99 tag   :',Ctr_tag_within100)\n",
    "print('Count of song more than 100 tag   :',Ctr_tag_more100)\n",
    "\n",
    "the_sum = Ctr_tag_within10+Ctr_tag_within20+Ctr_tag_within30+Ctr_tag_within40+Ctr_tag_within50+Ctr_tag_within60+Ctr_tag_within70+Ctr_tag_within80+Ctr_tag_within90+Ctr_tag_within100+Ctr_tag_more100\n",
    "print(the_sum)"
   ]
  },
  {
   "cell_type": "code",
   "execution_count": null,
   "metadata": {
    "collapsed": true
   },
   "outputs": [],
   "source": [
    "All_Song_List['']"
   ]
  },
  {
   "cell_type": "code",
   "execution_count": null,
   "metadata": {
    "collapsed": true
   },
   "outputs": [],
   "source": []
  }
 ],
 "metadata": {
  "kernelspec": {
   "display_name": "Python 3",
   "language": "python",
   "name": "python3"
  },
  "language_info": {
   "codemirror_mode": {
    "name": "ipython",
    "version": 3
   },
   "file_extension": ".py",
   "mimetype": "text/x-python",
   "name": "python",
   "nbconvert_exporter": "python",
   "pygments_lexer": "ipython3",
   "version": "3.6.1"
  }
 },
 "nbformat": 4,
 "nbformat_minor": 2
}
